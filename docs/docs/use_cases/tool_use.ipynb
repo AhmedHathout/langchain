{
 "cells": [
  {
   "cell_type": "markdown",
   "id": "14b94240",
   "metadata": {},
   "source": [
    "# Tool Use\n",
    "\n",
    "One of the most exciting use cases for LLMs is to use them to provide a natural language interface for other \"tools\" (whether those be APIs, functions, databases, or otherwise). LangChain is one of the best ways to build this naturl language interface for a few reasons:\n",
    "\n",
    "- Good output parsing (necessary for returning structured information to pass into a tool)\n",
    "- Large collection of built-in tools\n",
    "- Multiple ways of creating the logic to call these tools\n",
    "\n",
    "In this guide, we will go over two main ways to call tools: chains and agents"
   ]
  },
  {
   "cell_type": "markdown",
   "id": "68946881",
   "metadata": {},
   "source": [
    "## Create a tool\n",
    "\n",
    "First, we need to create a tool to call. For this example, we will create a custom tool from a function. For more information on all details related to creating custom tools, please see [this guide](/docs/modules/agents/tools/)"
   ]
  },
  {
   "cell_type": "code",
   "execution_count": 1,
   "id": "90187d07",
   "metadata": {},
   "outputs": [],
   "source": [
    "from langchain_core.tools import tool\n",
    "\n",
    "\n",
    "@tool\n",
    "def multiply(a: int, b: int) -> int:\n",
    "    \"\"\"Multiply two integers together.\"\"\"\n",
    "    return a * b"
   ]
  },
  {
   "cell_type": "code",
   "execution_count": 4,
   "id": "d7009e1a",
   "metadata": {},
   "outputs": [
    {
     "name": "stdout",
     "output_type": "stream",
     "text": [
      "multiply\n",
      "multiply(a: int, b: int) -> int - Multiply two integers together.\n",
      "{'a': {'title': 'A', 'type': 'integer'}, 'b': {'title': 'B', 'type': 'integer'}}\n"
     ]
    }
   ],
   "source": [
    "print(multiply.name)\n",
    "print(multiply.description)\n",
    "print(multiply.args)"
   ]
  },
  {
   "cell_type": "code",
   "execution_count": 5,
   "id": "be77e780",
   "metadata": {},
   "outputs": [
    {
     "data": {
      "text/plain": [
       "20"
      ]
     },
     "execution_count": 5,
     "metadata": {},
     "output_type": "execute_result"
    }
   ],
   "source": [
    "multiply.invoke({\"a\": 4, \"b\": 5})"
   ]
  },
  {
   "cell_type": "markdown",
   "id": "19ba4d63",
   "metadata": {},
   "source": [
    "## Chains\n",
    "\n",
    "In chains, you know that you pretty much always want to call a specific tool. Therefore, you don't need to use an LLM to determine IF you want to call a tool, but rather you just need to determine user input.\n",
    "\n",
    "### Function Calling\n",
    "\n",
    "One of the most reliable ways to do this is with function calling. This only works models that explicitly support this (like OpenAI)."
   ]
  },
  {
   "cell_type": "code",
   "execution_count": 10,
   "id": "2f8e4e7c",
   "metadata": {},
   "outputs": [],
   "source": [
    "from langchain.chat_models import ChatOpenAI\n",
    "from langchain.tools.render import format_tool_to_openai_function\n",
    "from langchain.output_parsers.openai_functions import JsonOutputFunctionsParser\n",
    "\n",
    "model = ChatOpenAI(temperature=0)\n",
    "functions = [format_tool_to_openai_function(multiply)]\n",
    "model_with_functions = model.bind(functions=functions, function_call={\"name\": \"multiply\"})\n",
    "chain = model_with_functions | JsonOutputFunctionsParser()"
   ]
  },
  {
   "cell_type": "code",
   "execution_count": 11,
   "id": "9e76fb42",
   "metadata": {},
   "outputs": [
    {
     "data": {
      "text/plain": [
       "{'a': 13, 'b': 4}"
      ]
     },
     "execution_count": 11,
     "metadata": {},
     "output_type": "execute_result"
    }
   ],
   "source": [
    "chain.invoke(\"what is thirteen times 4\")"
   ]
  },
  {
   "cell_type": "markdown",
   "id": "164f588f",
   "metadata": {},
   "source": [
    "If we want to do, we can add instructions in the form of a prompt"
   ]
  },
  {
   "cell_type": "code",
   "execution_count": 14,
   "id": "60999a67",
   "metadata": {},
   "outputs": [],
   "source": [
    "from langchain_core.prompts import ChatPromptTemplate\n",
    "\n",
    "prompt = ChatPromptTemplate.from_messages([\n",
    "    (\"system\", \"Always call multiply with the smaller number as value `a`\"),\n",
    "    (\"user\", \"{input}\")\n",
    "])\n",
    "\n",
    "chain = prompt | model_with_functions | JsonOutputFunctionsParser()"
   ]
  },
  {
   "cell_type": "code",
   "execution_count": 15,
   "id": "509e1145",
   "metadata": {},
   "outputs": [
    {
     "data": {
      "text/plain": [
       "{'a': 4, 'b': 13}"
      ]
     },
     "execution_count": 15,
     "metadata": {},
     "output_type": "execute_result"
    }
   ],
   "source": [
    "chain.invoke({\"input\": \"what is thirteen times 4\"})"
   ]
  },
  {
   "cell_type": "markdown",
   "id": "ed73d308",
   "metadata": {},
   "source": [
    "If we want to go further, we can pass the results from the model to the tool"
   ]
  },
  {
   "cell_type": "code",
   "execution_count": 18,
   "id": "73681dfc",
   "metadata": {},
   "outputs": [],
   "source": [
    "chain_with_tool = chain | multiply"
   ]
  },
  {
   "cell_type": "code",
   "execution_count": 19,
   "id": "a7fe6a0b",
   "metadata": {},
   "outputs": [
    {
     "data": {
      "text/plain": [
       "52"
      ]
     },
     "execution_count": 19,
     "metadata": {},
     "output_type": "execute_result"
    }
   ],
   "source": [
    "chain_with_tool.invoke({\"input\": \"what is thirteen times 4\"})"
   ]
  },
  {
   "cell_type": "markdown",
   "id": "0521d3d5",
   "metadata": {},
   "source": [
    "## Agents"
   ]
  },
  {
   "cell_type": "code",
   "execution_count": null,
   "id": "6e54c766",
   "metadata": {},
   "outputs": [],
   "source": []
  }
 ],
 "metadata": {
  "kernelspec": {
   "display_name": "Python 3 (ipykernel)",
   "language": "python",
   "name": "python3"
  },
  "language_info": {
   "codemirror_mode": {
    "name": "ipython",
    "version": 3
   },
   "file_extension": ".py",
   "mimetype": "text/x-python",
   "name": "python",
   "nbconvert_exporter": "python",
   "pygments_lexer": "ipython3",
   "version": "3.10.1"
  }
 },
 "nbformat": 4,
 "nbformat_minor": 5
}
