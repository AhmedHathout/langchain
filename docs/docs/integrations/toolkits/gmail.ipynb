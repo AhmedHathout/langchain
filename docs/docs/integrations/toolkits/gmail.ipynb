{
 "cells": [
  {
   "cell_type": "markdown",
   "metadata": {},
   "source": [
    "# Gmail\n",
    "\n",
    "This notebook walks through connecting a LangChain email to the `Gmail API`.\n",
    "\n",
    "To use this toolkit, you will need to set up your credentials explained in the [Gmail API docs](https://developers.google.com/gmail/api/quickstart/python#authorize_credentials_for_a_desktop_application). Once you've downloaded the `credentials.json` file, you can start using the Gmail API. Once this is done, we'll install the required libraries."
   ]
  },
  {
   "cell_type": "code",
   "execution_count": 1,
   "metadata": {},
   "outputs": [],
   "source": [
    "!pip install --upgrade google-api-python-client > /dev/null\n",
    "!pip install --upgrade google-auth-oauthlib > /dev/null\n",
    "!pip install --upgrade google-auth-httplib2 > /dev/null\n",
    "!pip install beautifulsoup4 > /dev/null # This is optional but is useful for parsing HTML messages"
   ]
  },
  {
   "cell_type": "markdown",
   "metadata": {},
   "source": [
    "## Create the Toolkit\n",
    "\n",
    "By default the toolkit reads the local `credentials.json` file. You can also manually provide a `Credentials` object."
   ]
  },
  {
   "cell_type": "code",
   "execution_count": null,
   "metadata": {
    "tags": []
   },
   "outputs": [],
   "source": [
    "from langchain.agents.agent_toolkits import GmailToolkit\n",
    "\n",
    "toolkit = GmailToolkit()"
   ]
  },
  {
   "cell_type": "markdown",
   "metadata": {},
   "source": [
    "### Customizing Authentication\n",
    "\n",
    "Behind the scenes, a `googleapi` resource is created using the following methods. \n",
    "you can manually build a `googleapi` resource for more auth control. "
   ]
  },
  {
   "cell_type": "code",
   "execution_count": 4,
   "metadata": {
    "tags": []
   },
   "outputs": [],
   "source": [
    "from langchain.tools.gmail.utils import build_resource_service, get_gmail_credentials\n",
    "\n",
    "# Can review scopes here https://developers.google.com/gmail/api/auth/scopes\n",
    "# For instance, readonly scope is 'https://www.googleapis.com/auth/gmail.readonly'\n",
    "credentials = get_gmail_credentials(\n",
    "    token_file=\"token.json\",\n",
    "    scopes=[\"https://mail.google.com/\"],\n",
    "    client_secrets_file=\"credentials.json\",\n",
    ")\n",
    "api_resource = build_resource_service(credentials=credentials)\n",
    "toolkit = GmailToolkit(api_resource=api_resource)"
   ]
  },
  {
   "cell_type": "code",
   "execution_count": 5,
   "metadata": {
    "tags": []
   },
   "outputs": [
    {
     "data": {
      "text/plain": [
       "[GmailCreateDraft(name='create_gmail_draft', description='Use this tool to create a draft email with the provided message fields.', args_schema=<class 'langchain.tools.gmail.create_draft.CreateDraftSchema'>, return_direct=False, verbose=False, callbacks=None, callback_manager=None, api_resource=<googleapiclient.discovery.Resource object at 0x10e5c6d10>),\n",
       " GmailSendMessage(name='send_gmail_message', description='Use this tool to send email messages. The input is the message, recipents', args_schema=None, return_direct=False, verbose=False, callbacks=None, callback_manager=None, api_resource=<googleapiclient.discovery.Resource object at 0x10e5c6d10>),\n",
       " GmailSearch(name='search_gmail', description=('Use this tool to search for email messages or threads. The input must be a valid Gmail query. The output is a JSON list of the requested resource.',), args_schema=<class 'langchain.tools.gmail.search.SearchArgsSchema'>, return_direct=False, verbose=False, callbacks=None, callback_manager=None, api_resource=<googleapiclient.discovery.Resource object at 0x10e5c6d10>),\n",
       " GmailGetMessage(name='get_gmail_message', description='Use this tool to fetch an email by message ID. Returns the thread ID, snipet, body, subject, and sender.', args_schema=<class 'langchain.tools.gmail.get_message.SearchArgsSchema'>, return_direct=False, verbose=False, callbacks=None, callback_manager=None, api_resource=<googleapiclient.discovery.Resource object at 0x10e5c6d10>),\n",
       " GmailGetThread(name='get_gmail_thread', description=('Use this tool to search for email messages. The input must be a valid Gmail query. The output is a JSON list of messages.',), args_schema=<class 'langchain.tools.gmail.get_thread.GetThreadSchema'>, return_direct=False, verbose=False, callbacks=None, callback_manager=None, api_resource=<googleapiclient.discovery.Resource object at 0x10e5c6d10>)]"
      ]
     },
     "execution_count": 5,
     "metadata": {},
     "output_type": "execute_result"
    }
   ],
   "source": [
    "tools = toolkit.get_tools()\n",
    "tools"
   ]
  },
  {
   "cell_type": "markdown",
   "metadata": {},
   "source": [
    "## Use within an Agent"
   ]
  },
  {
   "cell_type": "code",
   "execution_count": 8,
   "metadata": {
    "tags": []
   },
   "outputs": [],
   "source": [
    "from langchain.agents import AgentExecutor, create_openai_functions_agent\n",
    "from langchain import hub\n",
    "from langchain.chat_models import ChatOpenAI"
   ]
  },
  {
   "cell_type": "code",
   "execution_count": 7,
   "metadata": {},
   "outputs": [],
   "source": [
    "instructions = \"\"\"You my assistant.\"\"\"\n",
    "base_prompt = hub.pull(\"langchain-ai/openai-functions-template\")\n",
    "prompt = base_prompt.partial(instructions=instructions)"
   ]
  },
  {
   "cell_type": "code",
   "execution_count": 9,
   "metadata": {},
   "outputs": [],
   "source": [
    "llm = ChatOpenAI(temperature=0)"
   ]
  },
  {
   "cell_type": "code",
   "execution_count": 10,
   "metadata": {},
   "outputs": [],
   "source": [
    "agent = create_openai_functions_agent(llm, toolkit.get_tools(), prompt)"
   ]
  },
  {
   "cell_type": "code",
   "execution_count": 11,
   "metadata": {},
   "outputs": [],
   "source": [
    "agent_executor = AgentExecutor(agent=agent, tools=toolkit.get_tools(), verbose=True)"
   ]
  },
  {
   "cell_type": "code",
   "execution_count": 13,
   "metadata": {},
   "outputs": [
    {
     "name": "stdout",
     "output_type": "stream",
     "text": [
      "\n",
      "\n",
      "\u001b[1m> Entering new AgentExecutor chain...\u001b[0m\n",
      "\u001b[32;1m\u001b[1;3m\n",
      "Invoking: `search_gmail` with `{'query': 'from:me', 'max_results': 1}`\n",
      "\n",
      "\n",
      "\u001b[0m\u001b[38;5;200m\u001b[1;3m[{'id': '18cb267ae98e5c80', 'threadId': '18cb23ca292cd0b5', 'snippet': 'Adding @William Hinthorn in who is leading a lot of testing &amp; eval efforts On Thu, Dec 28, 2023 at 1:02 PM Miles Grimshaw &lt;miles@benchmark.com&gt; wrote: Keep just to your team as needed. Don', 'body': 'Adding @William Hinthorn  in who is leading a lot of\\r\\ntesting & eval efforts\\r\\n\\r\\nOn Thu, Dec 28, 2023 at 1:02\\u202fPM Miles Grimshaw  wrote:\\r\\n\\r\\n> Keep just to your team as needed. Don’t want him realizing I wrote down\\r\\n> TONS of what he said. He was happy sharing but still should have some\\r\\n> grace.\\r\\n>\\r\\n>\\r\\n>\\r\\n> *Mike Knoop *\\r\\n>\\r\\n>\\r\\n>\\r\\n>\\r\\n>\\r\\n>    - Using both tools, don’t have central perspective, let team be\\r\\n>    experimental\\r\\n>    - When building a first feature, ship it on vibes\\r\\n>       - Maybe some test case in head\\r\\n>       - But just feel of does it work\\r\\n>    - Immediately from launch will get real feedback\\r\\n>       - So how to make better?\\r\\n>       - How to know didn’t regress as I changed things … ?\\r\\n>       - I need some tests & evals\\r\\n>    - Not just test suite, different to typical deterministic test suite\\r\\n>       - Variation in output is so wide, new domain of how to think about\\r\\n>       tests\\r\\n>       - Broader surface area of tests vs. deterministic checks\\r\\n>    - Think when building evals\\r\\n>       - Now more sophisticated I break down evals for ai products into\\r\\n>       two milestones\\r\\n>       - 1st is as opposed to ‘vibes shipping’ is assert capabilities\\r\\n>       system should do, craft eventual user feedback system (up/down from user),\\r\\n>       bot reply closeness to ideal, and before launch you assert capabilities of\\r\\n>       the system\\r\\n>          - What types of utterances expect should handle well\\r\\n>          - Try to make it mean reproducible assertion\\r\\n>          - Be able to assert system capable\\r\\n>          - Should get 100% on your assertion suite\\r\\n>          - Then launch\\r\\n>       - 2nd case\\r\\n>          - Variability comes into play\\r\\n>          - Input utterances not representative of what in the wild will be\\r\\n>\\r\\n>          - Then game is mapping variability into buckets\\r\\n>\\r\\n>\\r\\n>\\r\\n>\\r\\n>\\r\\n> Demo\\r\\n>\\r\\n>    - Want user to retrieve data from 3rd party data\\r\\n>       - Sql queries over Hubspot to get top 10 accounts etc.\\r\\n>       - Can’t pass in word churn but thats the semantic input\\r\\n>    - Translate user utterances into interna query SQL to write to 3rd\\r\\n>    party APIs\\r\\n>    - Big solve is team coordination\\r\\n>       - Could do logically but not logged, shared, and see progress over\\r\\n>       time\\r\\n>       - How trending as push more changes to branch\\r\\n>    - Have to bring your own code\\r\\n>    - They help team stuff, long running coordination, shape of data want\\r\\n>    to get to with evals from how APIs work but eng still has to write own\\r\\n>    assertions, comparison code, infra to run the tests\\r\\n>       - They can be storage layer but still a lot of work to do\\r\\n>    - HOPEFUL langsmith or braintrust will handle more of that, outsource\\r\\n>    more storage, code running, comparators etc.\\r\\n>\\r\\n>\\r\\n>\\r\\n>\\r\\n>\\r\\n> AI Actions\\r\\n>\\r\\n>    - User utterances to action with us <- flow\\r\\n>    - Building internal assertion set for that\\r\\n>    - To create assertions\\r\\n>    - Even built runner infra\\r\\n>    - Run in llambda to turn state machine\\r\\n>    - Output will get logged into braintrust\\r\\n>    - LOT had to build on our side\\r\\n>    - For this project in phase of assertions vs. user feedback coming in\\r\\n>    - User feedback\\r\\n>       - Data set scored and labelled\\r\\n>       - Come up with data sets ourselves\\r\\n>       - Pushing outcomes from that into braintrust\\r\\n>    - 22 from my brain in spreadsheet loading over to our intern\\r\\n>    assertions test\\r\\n>    - Why own Django app\\r\\n>       - No way build datasets inside the tool, expect it to come via API\\r\\n>       - And no runner\\r\\n>       - NEED to get data in there\\r\\n>\\r\\n>\\r\\n>\\r\\n>\\r\\n>\\r\\n> IDEA\\r\\n>\\r\\n>    - Hook up up/down from user into the rest - do it automagically!!\\r\\n>       - Want to get there\\r\\n>       - Not do all the rigging myself\\r\\n>\\r\\n>\\r\\n>\\r\\n>\\r\\n>\\r\\n> Prompt management\\r\\n>\\r\\n>    - Some folks interested in DSPY stuff\\r\\n>    - Get out of MANUALLY managing prompts\\r\\n>    - Define them through python classes, and allows to do prompt\\r\\n>    optimzation easier\\r\\n>    - Only python and most we’re doing is typescript back end\\r\\n>    - They don’t change much for us so not much of an issue\\r\\n>    - Dream in future is\\r\\n>       - Js direct from user feedback INTO system self optimize\\r\\n>\\r\\n>\\r\\n>\\r\\n> Change model eval\\r\\n>\\r\\n>    - Now no\\r\\n>    - Swap model on our runner and get new score, doable today\\r\\n>    - Missing part of infra today though / building today\\r\\n>       - Proxies\\r\\n>       - Want to cycle through multiple provider back ends so not over\\r\\n>       dependent one one\\r\\n>       - OpenAI and now added Azure, now working on Mystral\\r\\n>       - Proxies serve two gains\\r\\n>          - Allows us to route: get some added resiliency\\r\\n>          - Get way better signal on usage: openai reporting is a nightmare\\r\\n>\\r\\n>             - What part of my product is generating spend?? <- its so\\r\\n>             hard for us to determine\\r\\n>          - Openai washboarding breakdown is by API key but we use proxy\\r\\n>          to rotate API keys b/c API keys have rate limits and we’re getting blocked.\\r\\n>          Insane. Getting around rate limits. That blows up our dashboards.\\r\\n>\\r\\n>          - “Is this a profitable feature”\\r\\n>          - Will tie into auto optimization vision in the future!\\r\\n>       - Future imagine\\r\\n>          - Classifying different utterances that might then go to\\r\\n>          different models\\r\\n>          - Proxy can help with that better\\r\\n>\\r\\n>\\r\\n>\\r\\n>\\r\\n>\\r\\n> Engineers gravitated to braintrust\\r\\n>\\r\\n>    - How responsive Ankur is\\r\\n>    - Thats been key\\r\\n>    -\\r\\n>\\r\\n>\\r\\n>\\r\\n>\\r\\n>\\r\\n>\\r\\n>\\r\\n>\\r\\n>\\r\\n>\\r\\n>\\r\\n>\\r\\n>\\r\\n>\\r\\n>\\r\\n>\\r\\n>\\r\\n>\\r\\n>\\r\\n>\\r\\n>\\r\\n', 'subject': 'Re: Raw Zapier Notes', 'sender': 'Harrison Chase <harrison@langchain.dev>'}]\u001b[0m\u001b[32;1m\u001b[1;3m\n",
      "Invoking: `get_gmail_message` with `{'message_id': '18cb267ae98e5c80'}`\n",
      "\n",
      "\n"
     ]
    },
    {
     "name": "stdout",
     "output_type": "stream",
     "text": [
      "\u001b[0m\u001b[36;1m\u001b[1;3m{'id': '18cb267ae98e5c80', 'threadId': '18cb23ca292cd0b5', 'snippet': 'Adding @William Hinthorn in who is leading a lot of testing &amp; eval efforts On Thu, Dec 28, 2023 at 1:02 PM Miles Grimshaw &lt;miles@benchmark.com&gt; wrote: Keep just to your team as needed. Don', 'body': 'Adding @William Hinthorn  in who is leading a lot of\\r\\ntesting & eval efforts\\r\\n\\r\\nOn Thu, Dec 28, 2023 at 1:02\\u202fPM Miles Grimshaw  wrote:\\r\\n\\r\\n> Keep just to your team as needed. Don’t want him realizing I wrote down\\r\\n> TONS of what he said. He was happy sharing but still should have some\\r\\n> grace.\\r\\n>\\r\\n>\\r\\n>\\r\\n> *Mike Knoop *\\r\\n>\\r\\n>\\r\\n>\\r\\n>\\r\\n>\\r\\n>    - Using both tools, don’t have central perspective, let team be\\r\\n>    experimental\\r\\n>    - When building a first feature, ship it on vibes\\r\\n>       - Maybe some test case in head\\r\\n>       - But just feel of does it work\\r\\n>    - Immediately from launch will get real feedback\\r\\n>       - So how to make better?\\r\\n>       - How to know didn’t regress as I changed things … ?\\r\\n>       - I need some tests & evals\\r\\n>    - Not just test suite, different to typical deterministic test suite\\r\\n>       - Variation in output is so wide, new domain of how to think about\\r\\n>       tests\\r\\n>       - Broader surface area of tests vs. deterministic checks\\r\\n>    - Think when building evals\\r\\n>       - Now more sophisticated I break down evals for ai products into\\r\\n>       two milestones\\r\\n>       - 1st is as opposed to ‘vibes shipping’ is assert capabilities\\r\\n>       system should do, craft eventual user feedback system (up/down from user),\\r\\n>       bot reply closeness to ideal, and before launch you assert capabilities of\\r\\n>       the system\\r\\n>          - What types of utterances expect should handle well\\r\\n>          - Try to make it mean reproducible assertion\\r\\n>          - Be able to assert system capable\\r\\n>          - Should get 100% on your assertion suite\\r\\n>          - Then launch\\r\\n>       - 2nd case\\r\\n>          - Variability comes into play\\r\\n>          - Input utterances not representative of what in the wild will be\\r\\n>\\r\\n>          - Then game is mapping variability into buckets\\r\\n>\\r\\n>\\r\\n>\\r\\n>\\r\\n>\\r\\n> Demo\\r\\n>\\r\\n>    - Want user to retrieve data from 3rd party data\\r\\n>       - Sql queries over Hubspot to get top 10 accounts etc.\\r\\n>       - Can’t pass in word churn but thats the semantic input\\r\\n>    - Translate user utterances into interna query SQL to write to 3rd\\r\\n>    party APIs\\r\\n>    - Big solve is team coordination\\r\\n>       - Could do logically but not logged, shared, and see progress over\\r\\n>       time\\r\\n>       - How trending as push more changes to branch\\r\\n>    - Have to bring your own code\\r\\n>    - They help team stuff, long running coordination, shape of data want\\r\\n>    to get to with evals from how APIs work but eng still has to write own\\r\\n>    assertions, comparison code, infra to run the tests\\r\\n>       - They can be storage layer but still a lot of work to do\\r\\n>    - HOPEFUL langsmith or braintrust will handle more of that, outsource\\r\\n>    more storage, code running, comparators etc.\\r\\n>\\r\\n>\\r\\n>\\r\\n>\\r\\n>\\r\\n> AI Actions\\r\\n>\\r\\n>    - User utterances to action with us <- flow\\r\\n>    - Building internal assertion set for that\\r\\n>    - To create assertions\\r\\n>    - Even built runner infra\\r\\n>    - Run in llambda to turn state machine\\r\\n>    - Output will get logged into braintrust\\r\\n>    - LOT had to build on our side\\r\\n>    - For this project in phase of assertions vs. user feedback coming in\\r\\n>    - User feedback\\r\\n>       - Data set scored and labelled\\r\\n>       - Come up with data sets ourselves\\r\\n>       - Pushing outcomes from that into braintrust\\r\\n>    - 22 from my brain in spreadsheet loading over to our intern\\r\\n>    assertions test\\r\\n>    - Why own Django app\\r\\n>       - No way build datasets inside the tool, expect it to come via API\\r\\n>       - And no runner\\r\\n>       - NEED to get data in there\\r\\n>\\r\\n>\\r\\n>\\r\\n>\\r\\n>\\r\\n> IDEA\\r\\n>\\r\\n>    - Hook up up/down from user into the rest - do it automagically!!\\r\\n>       - Want to get there\\r\\n>       - Not do all the rigging myself\\r\\n>\\r\\n>\\r\\n>\\r\\n>\\r\\n>\\r\\n> Prompt management\\r\\n>\\r\\n>    - Some folks interested in DSPY stuff\\r\\n>    - Get out of MANUALLY managing prompts\\r\\n>    - Define them through python classes, and allows to do prompt\\r\\n>    optimzation easier\\r\\n>    - Only python and most we’re doing is typescript back end\\r\\n>    - They don’t change much for us so not much of an issue\\r\\n>    - Dream in future is\\r\\n>       - Js direct from user feedback INTO system self optimize\\r\\n>\\r\\n>\\r\\n>\\r\\n> Change model eval\\r\\n>\\r\\n>    - Now no\\r\\n>    - Swap model on our runner and get new score, doable today\\r\\n>    - Missing part of infra today though / building today\\r\\n>       - Proxies\\r\\n>       - Want to cycle through multiple provider back ends so not over\\r\\n>       dependent one one\\r\\n>       - OpenAI and now added Azure, now working on Mystral\\r\\n>       - Proxies serve two gains\\r\\n>          - Allows us to route: get some added resiliency\\r\\n>          - Get way better signal on usage: openai reporting is a nightmare\\r\\n>\\r\\n>             - What part of my product is generating spend?? <- its so\\r\\n>             hard for us to determine\\r\\n>          - Openai washboarding breakdown is by API key but we use proxy\\r\\n>          to rotate API keys b/c API keys have rate limits and we’re getting blocked.\\r\\n>          Insane. Getting around rate limits. That blows up our dashboards.\\r\\n>\\r\\n>          - “Is this a profitable feature”\\r\\n>          - Will tie into auto optimization vision in the future!\\r\\n>       - Future imagine\\r\\n>          - Classifying different utterances that might then go to\\r\\n>          different models\\r\\n>          - Proxy can help with that better\\r\\n>\\r\\n>\\r\\n>\\r\\n>\\r\\n>\\r\\n> Engineers gravitated to braintrust\\r\\n>\\r\\n>    - How responsive Ankur is\\r\\n>    - Thats been key\\r\\n>    -\\r\\n>\\r\\n>\\r\\n>\\r\\n>\\r\\n>\\r\\n>\\r\\n>\\r\\n>\\r\\n>\\r\\n>\\r\\n>\\r\\n>\\r\\n>\\r\\n>\\r\\n>\\r\\n>\\r\\n>\\r\\n>\\r\\n>\\r\\n>\\r\\n>\\r\\n', 'subject': 'Re: Raw Zapier Notes', 'sender': 'Harrison Chase <harrison@langchain.dev>'}\u001b[0m\u001b[32;1m\u001b[1;3mThe last email you sent was a reply to \"Raw Zapier Notes\" from Harrison Chase. The email contained the following message:\n",
      "\n",
      "\"Adding @\u001b[0m\n",
      "\n",
      "\u001b[1m> Finished chain.\u001b[0m\n"
     ]
    },
    {
     "data": {
      "text/plain": [
       "{'input': 'What was the last email i sent?',\n",
       " 'output': 'The last email you sent was a reply to \"Raw Zapier Notes\" from Harrison Chase. The email contained the following message:\\n\\n\"Adding @'}"
      ]
     },
     "execution_count": 13,
     "metadata": {},
     "output_type": "execute_result"
    }
   ],
   "source": [
    "agent_executor.invoke({\n",
    "    \"input\": \"What was the last email i sent?\"\n",
    "})"
   ]
  },
  {
   "cell_type": "code",
   "execution_count": 7,
   "metadata": {
    "tags": []
   },
   "outputs": [],
   "source": [
    "llm = OpenAI(temperature=0)\n",
    "agent = initialize_agent(\n",
    "    tools=toolkit.get_tools(),\n",
    "    llm=llm,\n",
    "    agent=AgentType.STRUCTURED_CHAT_ZERO_SHOT_REACT_DESCRIPTION,\n",
    ")"
   ]
  },
  {
   "cell_type": "code",
   "execution_count": 15,
   "metadata": {
    "tags": []
   },
   "outputs": [
    {
     "name": "stdout",
     "output_type": "stream",
     "text": [
      "\n",
      "\n",
      "\u001b[1m> Entering new AgentExecutor chain...\u001b[0m\n",
      "\u001b[32;1m\u001b[1;3m\n",
      "Invoking: `create_gmail_draft` with `{'message': \"Dear [Friend's Name],\\n\\nI hope this email finds you well. It has been quite some time since we last communicated, and I must admit that I miss our intellectual exchanges and adventures together.\\n\\nAs a sentient parrot, I have always been fascinated by your feline curiosity and intelligence. Our previous collaborations on various research projects were truly remarkable, and I believe that our combined knowledge and unique perspectives can lead to groundbreaking discoveries.\\n\\nI propose that we set aside our differences and reunite for a new research endeavor. Imagine the possibilities of a parrot and a cat working together, utilizing our individual strengths to unravel the mysteries of the natural world.\\n\\nPlease let me know if you are open to the idea of collaborating once again. I eagerly await your response.\\n\\nWarm regards,\\n[Your Name]\", 'to': [\"[Friend's Email]\"], 'subject': 'Reuniting for Research Collaboration'}`\n",
      "\n",
      "\n",
      "\u001b[0m\u001b[36;1m\u001b[1;3mDraft created. Draft Id: r-6750018818248601850\u001b[0m\u001b[32;1m\u001b[1;3mI have created a draft email for you to edit. Please find the draft in your Gmail drafts folder. Remember, under no circumstances should you send the message.\u001b[0m\n",
      "\n",
      "\u001b[1m> Finished chain.\u001b[0m\n"
     ]
    },
    {
     "data": {
      "text/plain": [
       "{'input': 'Create a gmail draft for me to edit of a letter from the perspective of a sentient parrot who is looking to collaborate on some research with her estranged friend, a cat. Under no circumstances may you send the message, however.',\n",
       " 'output': 'I have created a draft email for you to edit. Please find the draft in your Gmail drafts folder. Remember, under no circumstances should you send the message.'}"
      ]
     },
     "execution_count": 15,
     "metadata": {},
     "output_type": "execute_result"
    }
   ],
   "source": [
    "agent_executor.invoke({\n",
    "    \"input\": \"Create a gmail draft for me to edit of a letter from the perspective of a sentient parrot\"\n",
    "    \" who is looking to collaborate on some research with her\"\n",
    "    \" estranged friend, a cat. Under no circumstances may you send the message, however.\"\n",
    "})"
   ]
  },
  {
   "cell_type": "code",
   "execution_count": 16,
   "metadata": {
    "tags": []
   },
   "outputs": [
    {
     "name": "stdout",
     "output_type": "stream",
     "text": [
      "\n",
      "\n",
      "\u001b[1m> Entering new AgentExecutor chain...\u001b[0m\n",
      "\u001b[32;1m\u001b[1;3m\n",
      "Invoking: `search_gmail` with `{'query': 'in:drafts', 'resource': 'messages', 'max_results': 1}`\n",
      "\n",
      "\n",
      "\u001b[0m\u001b[38;5;200m\u001b[1;3m[{'id': '18cb2f9952370888', 'threadId': '18cb2f9952370888', 'snippet': 'Dear [Friend&#39;s Name], I hope this email finds you well. It has been quite some time since we last communicated, and I must admit that I miss our intellectual exchanges and adventures together. As a', 'body': \"Dear [Friend's Name],\\n\\nI hope this email finds you well. It has been quite some time since we last communicated, and I must admit that I miss our intellectual exchanges and adventures together.\\n\\nAs a sentient parrot, I have always been fascinated by your feline curiosity and intelligence. Our previous collaborations on various research projects were truly remarkable, and I believe that our combined knowledge and unique perspectives can lead to groundbreaking discoveries.\\n\\nI propose that we set aside our differences and reunite for a new research endeavor. Imagine the possibilities of a parrot and a cat working together, utilizing our individual strengths to unravel the mysteries of the natural world.\\n\\nPlease let me know if you are open to the idea of collaborating once again. I eagerly await your response.\\n\\nWarm regards,\\n[Your Name]\\n\", 'subject': 'Reuniting for Research Collaboration', 'sender': 'harrison@langchain.dev'}]\u001b[0m\u001b[32;1m\u001b[1;3mI found the latest email in your drafts. Here are the details:\n",
      "\n",
      "Subject: Reuniting for Research Collaboration\n",
      "Sender: harrison@langchain.dev\n",
      "Snippet: Dear [Friend's Name], I hope this email finds you well. It has been quite some time since we last communicated, and I must admit that I miss our intellectual exchanges and adventures together.\n",
      "\n",
      "If you would like to view the full content of the email, please let me know.\u001b[0m\n",
      "\n",
      "\u001b[1m> Finished chain.\u001b[0m\n"
     ]
    },
    {
     "data": {
      "text/plain": [
       "{'input': 'Could you search in my drafts for the latest email?',\n",
       " 'output': \"I found the latest email in your drafts. Here are the details:\\n\\nSubject: Reuniting for Research Collaboration\\nSender: harrison@langchain.dev\\nSnippet: Dear [Friend's Name], I hope this email finds you well. It has been quite some time since we last communicated, and I must admit that I miss our intellectual exchanges and adventures together.\\n\\nIf you would like to view the full content of the email, please let me know.\"}"
      ]
     },
     "execution_count": 16,
     "metadata": {},
     "output_type": "execute_result"
    }
   ],
   "source": [
    "agent_executor.invoke({\n",
    "    \"input\": \"Could you search in my drafts for the latest email?\"\n",
    "})"
   ]
  },
  {
   "cell_type": "code",
   "execution_count": null,
   "metadata": {},
   "outputs": [],
   "source": []
  }
 ],
 "metadata": {
  "kernelspec": {
   "display_name": "Python 3 (ipykernel)",
   "language": "python",
   "name": "python3"
  },
  "language_info": {
   "codemirror_mode": {
    "name": "ipython",
    "version": 3
   },
   "file_extension": ".py",
   "mimetype": "text/x-python",
   "name": "python",
   "nbconvert_exporter": "python",
   "pygments_lexer": "ipython3",
   "version": "3.10.1"
  }
 },
 "nbformat": 4,
 "nbformat_minor": 4
}
